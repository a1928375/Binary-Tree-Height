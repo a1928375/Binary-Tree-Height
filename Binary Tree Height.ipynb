{
 "cells": [
  {
   "cell_type": "code",
   "execution_count": 1,
   "metadata": {},
   "outputs": [
    {
     "name": "stdout",
     "output_type": "stream",
     "text": [
      "4\n"
     ]
    }
   ],
   "source": [
    "class TreeNode:\n",
    "    \n",
    "    def __init__(self, k):\n",
    "        \n",
    "        self.key = k\n",
    "        \n",
    "        #self.value = val\n",
    "        \n",
    "        self.leftchild = None\n",
    "        \n",
    "        self.rightchild = None\n",
    "        \n",
    "      \n",
    "def btHeight(tree):\n",
    "    \n",
    "    if tree == None:\n",
    "        \n",
    "        return 0\n",
    "    \n",
    "    else:\n",
    "        \n",
    "        leftHeight = btHeight(tree.leftchild)\n",
    "        \n",
    "        rightHeight = btHeight(tree.rightchild)\n",
    "    \n",
    "    return 1 + max(leftHeight, rightHeight)\n",
    "        \n",
    "        \n",
    "root = TreeNode(3)\n",
    "root.rightchild = TreeNode(6)\n",
    "root.leftchild = TreeNode(2)\n",
    "root.rightchild.leftchild = TreeNode(5)\n",
    "root.rightchild.rightchild = TreeNode(7)\n",
    "root.rightchild.rightchild.rightchild = TreeNode(8)\n",
    "\n",
    "print (btHeight(root))"
   ]
  }
 ],
 "metadata": {
  "kernelspec": {
   "display_name": "Python 3",
   "language": "python",
   "name": "python3"
  },
  "language_info": {
   "codemirror_mode": {
    "name": "ipython",
    "version": 3
   },
   "file_extension": ".py",
   "mimetype": "text/x-python",
   "name": "python",
   "nbconvert_exporter": "python",
   "pygments_lexer": "ipython3",
   "version": "3.7.3"
  }
 },
 "nbformat": 4,
 "nbformat_minor": 2
}
