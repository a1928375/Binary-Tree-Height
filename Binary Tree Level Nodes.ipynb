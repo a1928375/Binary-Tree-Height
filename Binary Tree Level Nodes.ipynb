{
 "cells": [
  {
   "cell_type": "code",
   "execution_count": 9,
   "metadata": {},
   "outputs": [
    {
     "name": "stdout",
     "output_type": "stream",
     "text": [
      "4\n",
      "The level required is beyond the height of tree\n"
     ]
    }
   ],
   "source": [
    "class TreeNode:\n",
    "    \n",
    "    def __init__(self, k):\n",
    "        \n",
    "        self.key = k\n",
    "        \n",
    "        #self.value = val\n",
    "        \n",
    "        self.leftchild = None\n",
    "        \n",
    "        self.rightchild = None\n",
    "        \n",
    "\n",
    "def btHeight(root):\n",
    "    \n",
    "    if root == None:\n",
    "        \n",
    "        return 0\n",
    "    \n",
    "    else:\n",
    "        \n",
    "        leftlevel = btHeight(root.leftchild)\n",
    "        rightlevel = btHeight(root.rightchild)\n",
    "    \n",
    "    return 1 + max(leftlevel, rightlevel)\n",
    "\n",
    "\n",
    "def levelNodes(root, level):\n",
    "    \n",
    "    totalHeight = btHeight(root)\n",
    "    \n",
    "    if level > totalHeight:\n",
    "        \n",
    "        return \"The level required is beyond the height of tree\"\n",
    "    \n",
    "    elif root == None:          \n",
    "        \n",
    "        return 0\n",
    "    \n",
    "    else:\n",
    "        \n",
    "        #for i in range(level + 1):\n",
    "            \n",
    "        #    findLevel(root, i+1)\n",
    "        \n",
    "        findLevel(root, level)\n",
    "        \n",
    "def findLevel(root, level):\n",
    "    \n",
    "    if root == None:\n",
    "        \n",
    "        return\n",
    "    \n",
    "    if level == 1:\n",
    "        \n",
    "        print (root.key, end = \" \")\n",
    "\n",
    "    else:\n",
    "        \n",
    "        findLevel(root.leftchild, level-1)\n",
    "        findLevel(root.rightchild, level-1)\n",
    "        \n",
    "                \n",
    "root = TreeNode(3)\n",
    "root.rightchild = TreeNode(6)\n",
    "root.leftchild = TreeNode(2)\n",
    "root.rightchild.leftchild = TreeNode(5)\n",
    "root.rightchild.rightchild = TreeNode(7)\n",
    "root.rightchild.rightchild.rightchild = TreeNode(8)\n",
    "\n",
    "print (btHeight(root))\n",
    "\n",
    "print (levelNodes(root, 5))"
   ]
  }
 ],
 "metadata": {
  "kernelspec": {
   "display_name": "Python 3",
   "language": "python",
   "name": "python3"
  },
  "language_info": {
   "codemirror_mode": {
    "name": "ipython",
    "version": 3
   },
   "file_extension": ".py",
   "mimetype": "text/x-python",
   "name": "python",
   "nbconvert_exporter": "python",
   "pygments_lexer": "ipython3",
   "version": "3.7.3"
  }
 },
 "nbformat": 4,
 "nbformat_minor": 2
}
